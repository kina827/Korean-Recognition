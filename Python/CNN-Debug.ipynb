{
 "cells": [
  {
   "cell_type": "markdown",
   "metadata": {},
   "source": [
    "> ## Import Package"
   ]
  },
  {
   "cell_type": "code",
   "execution_count": null,
   "metadata": {},
   "outputs": [],
   "source": [
    "import os\n",
    "import torch\n",
    "import numpy as np\n",
    "import pandas as pd\n",
    "from skimage import io, transform\n",
    "from torch.utils.data import Dataset, DataLoader\n",
    "from torchvision import transforms\n",
    "import torch.nn as nn\n",
    "import torch.optim as optim\n",
    "import matplotlib.pyplot as plt"
   ]
  },
  {
   "cell_type": "markdown",
   "metadata": {},
   "source": [
    "> ## Define Functions\n",
    "> **encode_from_utf8**: returns a list of bit that converted from character represented by UTF-8<br>\n",
    "> **decode_from_bin**: returns a character represented by UTF-8 that converted from list of bit<br>"
   ]
  },
  {
   "cell_type": "code",
   "execution_count": null,
   "metadata": {},
   "outputs": [],
   "source": [
    "def encode_from_utf8(x):\n",
    "    return list(map(float,bin(int(x.encode().hex(),16))[2:]))\n",
    "\n",
    "def decode_from_bin(x):\n",
    "    res = \"\"\n",
    "    for i in x:\n",
    "        res+=str(round(i))\n",
    "        pass\n",
    "    return bytearray.fromhex(hex(int(res, 2))[2:]).decode()\n",
    "\n",
    "def decode_from_bin2(x):\n",
    "    res = \"\"\n",
    "    for i in x:\n",
    "        res+=str(int(i>0))\n",
    "        pass\n",
    "    return bytearray.fromhex(hex(int(res, 2))[2:]).decode()"
   ]
  },
  {
   "cell_type": "markdown",
   "metadata": {},
   "source": [
    "> ## Define Dataset Class"
   ]
  },
  {
   "cell_type": "code",
   "execution_count": null,
   "metadata": {},
   "outputs": [],
   "source": [
    "class KoreanHandwritingDataset(Dataset):\n",
    "    def __init__(self, csv_file, root_dir, transform=None):\n",
    "        self.dataset = pd.read_csv(csv_file)\n",
    "        self.root_dir = root_dir\n",
    "        self.transform = transform\n",
    "\n",
    "    def __len__(self):\n",
    "        return len(self.dataset)\n",
    "\n",
    "    def __getitem__(self, idx):\n",
    "        if torch.is_tensor(idx):\n",
    "            idx = idx.tolist()\n",
    "            \n",
    "        img_name = self.dataset.iloc[idx, 0]\n",
    "        image = io.imread(img_name)\n",
    "        label = self.dataset.iloc[idx, 1]\n",
    "        label = np.array([label])\n",
    "        sample = {'image': image, 'label': label}\n",
    "\n",
    "        if self.transform:\n",
    "            sample = self.transform(sample)\n",
    "\n",
    "        return sample\n",
    "    pass"
   ]
  },
  {
   "cell_type": "markdown",
   "metadata": {},
   "source": [
    "> ## Define Transform Class"
   ]
  },
  {
   "cell_type": "code",
   "execution_count": null,
   "metadata": {},
   "outputs": [],
   "source": [
    "class ToTensor(object):\n",
    "    def __call__(self, sample):\n",
    "        image, label = sample['image'], sample['label']\n",
    "        image = image/255.0\n",
    "        return {'image': torch.from_numpy(image.reshape(1,64,64)),\n",
    "                'label': torch.tensor(encode_from_utf8(label[0]))}"
   ]
  },
  {
   "cell_type": "markdown",
   "metadata": {},
   "source": [
    "> ## Define Model"
   ]
  },
  {
   "cell_type": "code",
   "execution_count": null,
   "metadata": {},
   "outputs": [],
   "source": [
    "class CNN(nn.Module):\n",
    "    def __init__(self):\n",
    "        super(CNN,self).__init__()\n",
    "        self.avgpool1 = nn.AvgPool2d(2,2) # kernel size 2x2 (32 = 64/2)\n",
    "        self.conv1 = nn.Conv2d(in_channels=1, out_channels=16, kernel_size=5, stride=1, padding=1)\n",
    "        self.relu1 = nn.ReLU()\n",
    "        self.maxpool1 = nn.MaxPool2d(2,2) # kernel size 2x2 (32 = 64/2)\n",
    "        self.conv2 = nn.Conv2d(in_channels=16, out_channels=32, kernel_size=5, stride=1, padding=1)\n",
    "        self.relu2 = nn.ReLU()\n",
    "        self.maxpool2 = nn.MaxPool2d(2,2) # kernel size 2x2 (16 = 32/2)\n",
    "        self.linear1 = nn.Linear(1152,378)\n",
    "        self.relu3 = nn.ReLU()\n",
    "        self.linear2 = nn.Linear(378,128)\n",
    "        self.relu4 = nn.ReLU()\n",
    "        self.linear3 = nn.Linear(128,24)\n",
    "        pass\n",
    "    def forward(self,x):\n",
    "        out = self.avgpool1(x)\n",
    "        print('avgpool1: ', out.shape)\n",
    "        out = self.conv1(out)\n",
    "        print('conv1: ', out.shape)\n",
    "        out = self.relu1(out)\n",
    "        print('relu1: ', out.shape)\n",
    "        out = self.maxpool1(out)\n",
    "        print('maxpool1: ', out.shape)\n",
    "        out = self.conv2(out)\n",
    "        print('conv2: ', out.shape)\n",
    "        out = self.relu2(out)\n",
    "        print('relu2: ', out.shape)\n",
    "        out = self.maxpool2(out)\n",
    "        print('maxpool2: ', out.shape)\n",
    "        out = out.view(out.size(0),-1)\n",
    "        print('view: ', out.shape)\n",
    "        out = self.linear1(out)\n",
    "        print('linear1: ', out.shape)\n",
    "        out = self.relu3(out)\n",
    "        print('relu3: ', out.shape)\n",
    "        out = self.linear2(out)\n",
    "        print('linear2: ', out.shape)\n",
    "        out = self.relu4(out)\n",
    "        print('relu4: ', out.shape)\n",
    "        out = self.linear3(out)\n",
    "        print('linear3: ', out.shape)\n",
    "        print(out[0])\n",
    "        print()\n",
    "        return out"
   ]
  },
  {
   "cell_type": "markdown",
   "metadata": {},
   "source": [
    "> ## Create Model\n",
    "> if saved model exist, load model from disk"
   ]
  },
  {
   "cell_type": "code",
   "execution_count": null,
   "metadata": {},
   "outputs": [],
   "source": [
    "DEBUG_DATA = False\n",
    "TRAIN = True\n",
    "\n",
    "MODEL_DIR = './saved_model/'\n",
    "MODEL_FILE = 'BCEWithLogitsLoss-New.tar'\n",
    "CSV_FILE = \"./image-data/labels-map.csv\"\n",
    "ROOT_DIR = \"./image-data/hangul-images\"\n",
    "\n",
    "epoch = 0\n",
    "batch_size = 512\n",
    "learning_rate = 0.0001\n",
    "\n",
    "korean_dataset = KoreanHandwritingDataset(CSV_FILE, ROOT_DIR, transform=transforms.Compose([ToTensor()]))\n",
    "dataloader = DataLoader(korean_dataset, batch_size = batch_size, shuffle = True, num_workers = 0, pin_memory=True)\n",
    "\n",
    "device = 'cuda' if torch.cuda.is_available() else 'cpu'\n",
    "model = CNN().double().to(device)\n",
    "optimizer = torch.optim.Adam(model.parameters(),lr=learning_rate)\n",
    "loss_function = nn.BCEWithLogitsLoss()\n",
    "\n",
    "if(os.path.isfile(MODEL_DIR+MODEL_FILE)):\n",
    "    checkpoint = torch.load(MODEL_DIR + MODEL_FILE)\n",
    "    model.load_state_dict(checkpoint['model_state_dict'])\n",
    "    optimizer.load_state_dict(checkpoint['optimizer_state_dict'])\n",
    "    epoch = checkpoint['epoch']\n",
    "    loss = checkpoint['loss']\n",
    "    if TRAIN:\n",
    "        model.train()\n",
    "    else:\n",
    "        model.eval()\n",
    "    print(MODEL_FILE, 'loaded!')"
   ]
  },
  {
   "cell_type": "markdown",
   "metadata": {},
   "source": [
    "> ## Train Model"
   ]
  },
  {
   "cell_type": "code",
   "execution_count": null,
   "metadata": {
    "scrolled": false
   },
   "outputs": [],
   "source": [
    "if TRAIN:\n",
    "    model.to(device)\n",
    "    model.train()\n",
    "    for i in range(1):\n",
    "        for j, sample in enumerate(dataloader):\n",
    "            x = sample['image'].to(device)\n",
    "            y = sample['label'].to(device)\n",
    "            optimizer.zero_grad()\n",
    "            output = model.forward(x)\n",
    "            loss = loss_function(output,y)\n",
    "            loss.backward()\n",
    "            optimizer.step()\n",
    "            if j == 0:\n",
    "                if DEBUG_DATA:\n",
    "                    plt.figure(figsize=(32, 32))\n",
    "                    for k, img in enumerate(x):\n",
    "                        plt.subplot(8, 8, k+1)\n",
    "                        plt.imshow(img.squeeze())\n",
    "                        plt.xticks([])\n",
    "                        plt.yticks([])\n",
    "                        pass\n",
    "                    plt.show()\n",
    "                    pass\n",
    "                pass\n",
    "            pass\n",
    "        epoch += 1\n",
    "        print('epoch: ', epoch, 'loss: ', loss)\n",
    "        torch.save({\n",
    "            'model_state_dict': model.state_dict(),\n",
    "            'optimizer_state_dict': optimizer.state_dict(),\n",
    "            'epoch': epoch,\n",
    "            'loss': loss,\n",
    "        }, MODEL_DIR+MODEL_FILE)\n",
    "        pass\n",
    "    pass"
   ]
  },
  {
   "cell_type": "markdown",
   "metadata": {},
   "source": [
    "> ## Test Model"
   ]
  },
  {
   "cell_type": "code",
   "execution_count": null,
   "metadata": {},
   "outputs": [],
   "source": [
    "with torch.no_grad():\n",
    "    model.to(device)\n",
    "    model.eval()\n",
    "    scoreboard = []\n",
    "    for j, sample in enumerate(dataloader):\n",
    "        x = sample['image'].to(device)\n",
    "        y = sample['label'].to(device)\n",
    "        output = model.forward(x)\n",
    "        for i in range(len(output)):\n",
    "            try:\n",
    "                out = decode_from_bin2(output[i].tolist())\n",
    "            except UnicodeDecodeError:\n",
    "                out = 'UnicodeDecodeError'\n",
    "            y_ = decode_from_bin(y[i].tolist())\n",
    "            #print(\", 실제 값: \", y_, \"출력 값: \", out)\n",
    "            if out==y_:\n",
    "                scoreboard.append(1)\n",
    "                pass\n",
    "            else:\n",
    "                scoreboard.append(0)\n",
    "                pass\n",
    "            pass\n",
    "        pass\n",
    "    pass"
   ]
  },
  {
   "cell_type": "code",
   "execution_count": null,
   "metadata": {},
   "outputs": [],
   "source": [
    "sum=0\n",
    "for i in range(len(scoreboard)):\n",
    "    sum+=int(scoreboard[i])\n",
    "performance=sum/len(scoreboard)*100\n",
    "print(\"performance: \",performance,\"%\")"
   ]
  }
 ],
 "metadata": {
  "kernelspec": {
   "display_name": "Python 3",
   "language": "python",
   "name": "python3"
  },
  "language_info": {
   "codemirror_mode": {
    "name": "ipython",
    "version": 3
   },
   "file_extension": ".py",
   "mimetype": "text/x-python",
   "name": "python",
   "nbconvert_exporter": "python",
   "pygments_lexer": "ipython3",
   "version": "3.8.3"
  }
 },
 "nbformat": 4,
 "nbformat_minor": 4
}
